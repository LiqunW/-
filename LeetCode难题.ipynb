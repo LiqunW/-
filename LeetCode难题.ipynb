{
 "cells": [
  {
   "cell_type": "markdown",
   "metadata": {
    "collapsed": true
   },
   "source": []
  },
  {
   "cell_type": "code",
   "execution_count": null,
   "metadata": {},
   "outputs": [],
   "source": [
    "class Solution:\n",
    "    def longestPalindromeSubseq(self, s):\n",
    "        \"\"\"\n",
    "        :type s: str\n",
    "        :rtype: int\n",
    "        \"\"\"\n",
    "        dp=[]\n",
    "        for i in range(len(s)):\n",
    "            dp.append([0]*len(s))\n",
    "        for i in range(len(s)-1,-1,-1):\n",
    "            dp[i][i]=1\n",
    "            for j in range(i+1,len(s)):\n",
    "                if s[i]==s[j]:\n",
    "                    dp[i][j]=dp[i+1][j-1]+2\n",
    "                else:\n",
    "                    dp[i][j]=max(dp[i+1][j],dp[i][j-1])\n",
    "        return dp[0][-1]"
   ]
  }
 ],
 "metadata": {
  "kernelspec": {
   "display_name": "Python 2",
   "language": "python",
   "name": "python2"
  },
  "language_info": {
   "codemirror_mode": {
    "name": "ipython",
    "version": 2
   },
   "file_extension": ".py",
   "mimetype": "text/x-python",
   "name": "python",
   "nbconvert_exporter": "python",
   "pygments_lexer": "ipython2",
   "version": "2.7.6"
  }
 },
 "nbformat": 4,
 "nbformat_minor": 0
}
