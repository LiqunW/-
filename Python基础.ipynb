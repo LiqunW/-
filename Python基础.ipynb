{
 "cells": [
  {
   "cell_type": "heading",
   "metadata": {
    "collapsed": true
   },
   "level": 1,
   "source": [
    "Python函数式编程"
   ]
  },
  {
   "cell_type": "code",
   "execution_count": null,
   "metadata": {},
   "outputs": [],
   "source": [
    "def lazy_sum(*args):\n",
    "    def sum():\n",
    "        ax = 0\n",
    "        for n in args:\n",
    "            ax = ax + n\n",
    "        return ax\n",
    "    return sum\n",
    "\n",
    "f1 = lazy_sum(1, 3, 5, 7, 9)\n",
    "f2 = lazy_sum(1, 3, 5, 7, 9)\n",
    "f1==f2 #False\n",
    "#调用f1，f2的时候，才是求和操作\n",
    "f1()\n",
    "f2()\n"
   ]
  },
  {
   "cell_type": "markdown",
   "metadata": {},
   "source": [
    "闭包的概念\n",
    "\n",
    "在这个例子中，我们在函数lazy_sum中又定义了函数sum，并且，内部函数sum可以引用外部函数lazy_sum的参数和局部变量，当lazy_sum返回函数sum时，相关参数和变量都保存在返回的函数中，这种称为“闭包（Closure）”的程序结构拥有极大的威力。"
   ]
  },
  {
   "cell_type": "code",
   "execution_count": null,
   "metadata": {},
   "outputs": [],
   "source": [
    "import time\n",
    "\n",
    "def timetest(input_func):\n",
    "\n",
    "    def timed(*args, **kwargs):\n",
    "\n",
    "        start_time = time.time()\n",
    "        result = input_func(*args, **kwargs)\n",
    "        end_time = time.time()\n",
    "        print (\"Method Name - {0}, Args - {1}, Kwargs - {2}, Execution Time - {3}\".format(\n",
    "            input_func.__name__,args,kwargs,end_time - start_time))\n",
    "        return result\n",
    "    return timed\n",
    "\n",
    "\n",
    "@timetest\n",
    "def foobar(*args, **kwargs):\n",
    "    time.sleep(0.3)\n",
    "    print(\"inside foobar\")\n",
    "    print(args, kwargs)\n",
    "\n",
    "foobar([\"hello, world\"], foo=2, bar=5)"
   ]
  },
  {
   "cell_type": "markdown",
   "metadata": {},
   "source": [
    "函数装饰器"
   ]
  },
  {
   "cell_type": "code",
   "execution_count": null,
   "metadata": {},
   "outputs": [],
   "source": [
    "import time\n",
    "\n",
    "def timetest(input_func):\n",
    "\n",
    "    def timed(*args, **kwargs):\n",
    "\n",
    "        start_time = time.time()\n",
    "        result = input_func(*args, **kwargs)\n",
    "        end_time = time.time()\n",
    "        print (\"Method Name - {0}, Args - {1}, Kwargs - {2}, Execution Time - {3}\".format(\n",
    "            input_func.__name__,args,kwargs,end_time - start_time))\n",
    "        return result\n",
    "    return timed\n",
    "\n",
    "\n",
    "@timetest\n",
    "def foobar(*args, **kwargs):\n",
    "    time.sleep(0.3)\n",
    "    print(\"inside foobar\")\n",
    "    print(args, kwargs)\n",
    "\n",
    "foobar([\"hello, world\"], foo=2, bar=5)"
   ]
  },
  {
   "cell_type": "markdown",
   "metadata": {},
   "source": [
    "Method Decorator\n",
    "Method decorators allow overriding class properties by decorating, without having to find the calling function."
   ]
  },
  {
   "cell_type": "code",
   "execution_count": null,
   "metadata": {},
   "outputs": [],
   "source": [
    "def method_decorator(method):\n",
    "\n",
    "    def inner(city_instance):\n",
    "        if city_instance.name == \"SFO\":\n",
    "            print(\"Its a cool place to live in.\")\n",
    "        else:\n",
    "            method(city_instance)\n",
    "        return inner\n",
    "\n",
    "\n",
    "class City(object):\n",
    "\n",
    "    def __init__(self, name):\n",
    "        self.name = name\n",
    "\n",
    "    @method_decorator\n",
    "    def print_test(self):\n",
    "        print (self.name)\n",
    "\n",
    "\n",
    "p1 = City(\"SFO\")\n",
    "\n",
    "p1.print_test()"
   ]
  }
 ],
 "metadata": {
  "kernelspec": {
   "display_name": "Python 2",
   "language": "python",
   "name": "python2"
  },
  "language_info": {
   "codemirror_mode": {
    "name": "ipython",
    "version": 2
   },
   "file_extension": ".py",
   "mimetype": "text/x-python",
   "name": "python",
   "nbconvert_exporter": "python",
   "pygments_lexer": "ipython2",
   "version": "2.7.6"
  }
 },
 "nbformat": 4,
 "nbformat_minor": 0
}
